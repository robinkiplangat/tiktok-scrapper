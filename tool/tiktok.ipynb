{
 "cells": [
  {
   "cell_type": "markdown",
   "metadata": {},
   "source": [
    "### Set Environment"
   ]
  },
  {
   "cell_type": "code",
   "execution_count": 1,
   "metadata": {},
   "outputs": [],
   "source": [
    "import json\n",
    "import warnings\n",
    "import pandas as pd\n",
    "from glob2 import glob\n",
    "warnings.filterwarnings(\"ignore\")\n"
   ]
  },
  {
   "cell_type": "markdown",
   "metadata": {},
   "source": [
    "### List all Output paths"
   ]
  },
  {
   "cell_type": "code",
   "execution_count": 2,
   "metadata": {},
   "outputs": [],
   "source": [
    "jsonFiles = \\\n",
    "    glob('/Users/ivanmusebe/Desktop/tiktok-hashtag-analysis/data/*/posts/*.json'\n",
    "         )  # Can be used absolute or relative paths\n"
   ]
  },
  {
   "cell_type": "markdown",
   "metadata": {},
   "source": [
    "### Function to\n",
    "* __Merge all data in files__\n",
    "* __Normalizes merged .json into dataframe__\n",
    "* __Saves as csv__"
   ]
  },
  {
   "cell_type": "code",
   "execution_count": 3,
   "metadata": {},
   "outputs": [],
   "source": [
    "tiktok_data = pd.DataFrame([])\n",
    "\n",
    "\n",
    "def merge_JsonFiles(filename):\n",
    "    for f1 in filename:\n",
    "        global tiktok_data\n",
    "        with open(f1, \"r\") as infile:\n",
    "            data = json.load(infile)\n",
    "        tiktok_data = tiktok_data.append(pd.json_normalize(data), ignore_index=True)\n",
    "        tiktok_data[\"mentions\"] = tiktok_data[\"mentions\"].transform(\n",
    "            lambda x: \",\".join(map(str, x))\n",
    "        )\n",
    "        tiktok_data.to_csv(\n",
    "            \"/Users/ivanmusebe/Desktop/tiktok-hashtag-analysis/data/tiktok.csv\",\n",
    "            index=False,\n",
    "        )\n",
    "\n",
    "\n",
    "merge_JsonFiles(jsonFiles)\n"
   ]
  },
  {
   "cell_type": "markdown",
   "metadata": {},
   "source": [
    "### Cleaning\n",
    "#### Delete duplicate data: by 'webVideoUrl'"
   ]
  },
  {
   "cell_type": "code",
   "execution_count": 5,
   "metadata": {},
   "outputs": [],
   "source": [
    "# Delete duplicate rows based on specific columns\n",
    "\n",
    "tiktok_data = tiktok_data.drop_duplicates(subset=['webVideoUrl'],\n",
    "                                          keep=False)\n"
   ]
  },
  {
   "cell_type": "markdown",
   "metadata": {},
   "source": [
    "### Data Summaries\n",
    "#### To Flourish:"
   ]
  },
  {
   "cell_type": "markdown",
   "metadata": {},
   "source": [
    "### Visuals\n",
    "#### 1. User from 'webVideoUrl'"
   ]
  },
  {
   "cell_type": "code",
   "execution_count": 4,
   "metadata": {},
   "outputs": [],
   "source": [
    "source = pd.DataFrame([])\n",
    "source[\"source\"] = tiktok_data['webVideoUrl'].str.split('/').str[3]\n",
    "source[\"source\"].value_counts().rename_axis(\"unique_sources\").reset_index(\n",
    "    name=\"counts\"\n",
    ").to_csv(\"/Users/ivanmusebe/Desktop/tiktok-hashtag-analysis/data/source.csv\")\n"
   ]
  },
  {
   "cell_type": "markdown",
   "metadata": {},
   "source": [
    "#### 2. Virial Video: 'webvideoUrl' "
   ]
  },
  {
   "cell_type": "code",
   "execution_count": 5,
   "metadata": {},
   "outputs": [],
   "source": [
    "tiktok_data[\"videoUrl\"].value_counts(ascending=True).rename_axis(\n",
    "    \"unique_videos\"\n",
    ").reset_index(name=\"counts\").to_csv(\n",
    "    \"/Users/ivanmusebe/Desktop/tiktok-hashtag-analysis/data/videos.csv\"\n",
    ")\n"
   ]
  },
  {
   "cell_type": "markdown",
   "metadata": {},
   "source": [
    "#### 3. Sentimental Analysis by 'text'"
   ]
  },
  {
   "cell_type": "code",
   "execution_count": 4,
   "metadata": {},
   "outputs": [
    {
     "ename": "TypeError",
     "evalue": "'int' object is not iterable",
     "output_type": "error",
     "traceback": [
      "\u001b[0;31m---------------------------------------------------------------------------\u001b[0m",
      "\u001b[0;31mTypeError\u001b[0m                                 Traceback (most recent call last)",
      "\u001b[1;32m/Users/ivanmusebe/Documents/code/tiktok-scrapper/tool/tiktok.ipynb Cell 15'\u001b[0m in \u001b[0;36m<cell line: 1>\u001b[0;34m()\u001b[0m\n\u001b[0;32m----> <a href='vscode-notebook-cell:/Users/ivanmusebe/Documents/code/tiktok-scrapper/tool/tiktok.ipynb#ch0000020?line=0'>1</a>\u001b[0m [\u001b[39m'\u001b[39m\u001b[39m,\u001b[39m\u001b[39m'\u001b[39m\u001b[39m.\u001b[39mjoin(\u001b[39mmap\u001b[39m(\u001b[39mstr\u001b[39m, \u001b[39m1\u001b[39m)) \u001b[39mfor\u001b[39;00m i \u001b[39min\u001b[39;00m tiktok_data[\u001b[39m'\u001b[39m\u001b[39mmentions\u001b[39m\u001b[39m'\u001b[39m] ]\n",
      "\u001b[1;32m/Users/ivanmusebe/Documents/code/tiktok-scrapper/tool/tiktok.ipynb Cell 15'\u001b[0m in \u001b[0;36m<listcomp>\u001b[0;34m(.0)\u001b[0m\n\u001b[0;32m----> <a href='vscode-notebook-cell:/Users/ivanmusebe/Documents/code/tiktok-scrapper/tool/tiktok.ipynb#ch0000020?line=0'>1</a>\u001b[0m [\u001b[39m'\u001b[39m\u001b[39m,\u001b[39m\u001b[39m'\u001b[39m\u001b[39m.\u001b[39mjoin(\u001b[39mmap\u001b[39;49m(\u001b[39mstr\u001b[39;49m, \u001b[39m1\u001b[39;49m)) \u001b[39mfor\u001b[39;00m i \u001b[39min\u001b[39;00m tiktok_data[\u001b[39m'\u001b[39m\u001b[39mmentions\u001b[39m\u001b[39m'\u001b[39m] ]\n",
      "\u001b[0;31mTypeError\u001b[0m: 'int' object is not iterable"
     ]
    }
   ],
   "source": [
    "[','.join(map(str, 1)) for i in tiktok_data['mentions'] ]"
   ]
  },
  {
   "cell_type": "code",
   "execution_count": 11,
   "metadata": {},
   "outputs": [],
   "source": [
    "def list2Str(lst):\n",
    "    if type(lst) is list: # apply conversion to list columns\n",
    "        return\",\".join(lst)\n",
    "    else:\n",
    "        return lst"
   ]
  },
  {
   "cell_type": "code",
   "execution_count": 16,
   "metadata": {},
   "outputs": [
    {
     "data": {
      "text/plain": [
       "0       @jaexsoo\n",
       "1               \n",
       "2               \n",
       "3               \n",
       "4               \n",
       "          ...   \n",
       "3472            \n",
       "3473            \n",
       "3474            \n",
       "3475            \n",
       "3476            \n",
       "Name: mentions, Length: 3477, dtype: object"
      ]
     },
     "execution_count": 16,
     "metadata": {},
     "output_type": "execute_result"
    }
   ],
   "source": []
  },
  {
   "cell_type": "code",
   "execution_count": 11,
   "metadata": {},
   "outputs": [],
   "source": [
    "import string\n",
    "import re\n",
    "all_punctuation = string.punctuation"
   ]
  },
  {
   "cell_type": "code",
   "execution_count": 17,
   "metadata": {},
   "outputs": [],
   "source": [
    "def remove_punctuations(text):\n",
    "    for punctuation in string.punctuation:\n",
    "        text = text.replace(punctuation, '')\n",
    "    return text"
   ]
  }
 ],
 "metadata": {
  "interpreter": {
   "hash": "aee8b7b246df8f9039afb4144a1f6fd8d2ca17a180786b69acc140d282b71a49"
  },
  "kernelspec": {
   "display_name": "Python 3.10.4 64-bit",
   "language": "python",
   "name": "python3"
  },
  "language_info": {
   "codemirror_mode": {
    "name": "ipython",
    "version": 3
   },
   "file_extension": ".py",
   "mimetype": "text/x-python",
   "name": "python",
   "nbconvert_exporter": "python",
   "pygments_lexer": "ipython3",
   "version": "3.10.4"
  },
  "orig_nbformat": 4
 },
 "nbformat": 4,
 "nbformat_minor": 2
}
