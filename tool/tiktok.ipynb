{
 "cells": [
  {
   "cell_type": "markdown",
   "metadata": {},
   "source": [
    "### Set Environment"
   ]
  },
  {
   "cell_type": "code",
   "execution_count": 36,
   "metadata": {},
   "outputs": [],
   "source": [
    "import json\n",
    "import pandas as pd"
   ]
  },
  {
   "cell_type": "markdown",
   "metadata": {},
   "source": [
    "### List all Output paths"
   ]
  },
  {
   "cell_type": "code",
   "execution_count": 37,
   "metadata": {},
   "outputs": [],
   "source": [
    "from glob2 import glob\n",
    "jsonFiles = glob('/Users/ivanmusebe/Desktop/tiktok-hashtag-analysis/data/*/posts/*.json') #Can be used absolute or relative paths"
   ]
  },
  {
   "cell_type": "markdown",
   "metadata": {},
   "source": [
    "### Merge all data:"
   ]
  },
  {
   "cell_type": "code",
   "execution_count": 50,
   "metadata": {},
   "outputs": [
    {
     "name": "stderr",
     "output_type": "stream",
     "text": [
      "/var/folders/cq/1ccdbd_j1256m9m9sgf4q0t00000gp/T/ipykernel_19586/3402362571.py:8: FutureWarning: The frame.append method is deprecated and will be removed from pandas in a future version. Use pandas.concat instead.\n",
      "  tiktok_data = tiktok_data.append(pd.json_normalize(data), ignore_index = True)\n",
      "/var/folders/cq/1ccdbd_j1256m9m9sgf4q0t00000gp/T/ipykernel_19586/3402362571.py:8: FutureWarning: The frame.append method is deprecated and will be removed from pandas in a future version. Use pandas.concat instead.\n",
      "  tiktok_data = tiktok_data.append(pd.json_normalize(data), ignore_index = True)\n",
      "/var/folders/cq/1ccdbd_j1256m9m9sgf4q0t00000gp/T/ipykernel_19586/3402362571.py:8: FutureWarning: The frame.append method is deprecated and will be removed from pandas in a future version. Use pandas.concat instead.\n",
      "  tiktok_data = tiktok_data.append(pd.json_normalize(data), ignore_index = True)\n",
      "/var/folders/cq/1ccdbd_j1256m9m9sgf4q0t00000gp/T/ipykernel_19586/3402362571.py:8: FutureWarning: The frame.append method is deprecated and will be removed from pandas in a future version. Use pandas.concat instead.\n",
      "  tiktok_data = tiktok_data.append(pd.json_normalize(data), ignore_index = True)\n"
     ]
    }
   ],
   "source": [
    "tiktok_data = pd.DataFrame([])\n",
    "\n",
    "def merge_JsonFiles(filename):\n",
    "    for f1 in filename:\n",
    "        global tiktok_data\n",
    "        with open(f1, 'r') as infile:\n",
    "            data = json.load(infile)\n",
    "        tiktok_data = tiktok_data.append(pd.json_normalize(data), ignore_index = True)\n",
    "        tiktok_data.to_csv(\"/Users/ivanmusebe/Desktop/tiktok-hashtag-analysis/data/tiktok.csv\", index=False)\n",
    "\n",
    "merge_JsonFiles(jsonFiles)"
   ]
  },
  {
   "cell_type": "markdown",
   "metadata": {},
   "source": [
    "### Save as .csv"
   ]
  },
  {
   "cell_type": "code",
   "execution_count": 41,
   "metadata": {},
   "outputs": [
    {
     "ename": "AttributeError",
     "evalue": "'list' object has no attribute 'to_csv'",
     "output_type": "error",
     "traceback": [
      "\u001b[0;31m---------------------------------------------------------------------------\u001b[0m",
      "\u001b[0;31mAttributeError\u001b[0m                            Traceback (most recent call last)",
      "\u001b[1;32m/Users/ivanmusebe/Documents/code/tiktok-scrapper/tool/tiktok.ipynb Cell 10'\u001b[0m in \u001b[0;36m<cell line: 1>\u001b[0;34m()\u001b[0m\n\u001b[0;32m----> <a href='vscode-notebook-cell:/Users/ivanmusebe/Documents/code/tiktok-scrapper/tool/tiktok.ipynb#ch0000008?line=0'>1</a>\u001b[0m result\u001b[39m.\u001b[39;49mto_csv(\u001b[39m\"\u001b[39m\u001b[39m/Users/ivanmusebe/Desktop/tiktok-hashtag-analysis/data/tiktok.csv\u001b[39m\u001b[39m\"\u001b[39m, index\u001b[39m=\u001b[39m\u001b[39mFalse\u001b[39;00m)\n",
      "\u001b[0;31mAttributeError\u001b[0m: 'list' object has no attribute 'to_csv'"
     ]
    }
   ],
   "source": []
  }
 ],
 "metadata": {
  "interpreter": {
   "hash": "aee8b7b246df8f9039afb4144a1f6fd8d2ca17a180786b69acc140d282b71a49"
  },
  "kernelspec": {
   "display_name": "Python 3.10.4 64-bit",
   "language": "python",
   "name": "python3"
  },
  "language_info": {
   "codemirror_mode": {
    "name": "ipython",
    "version": 3
   },
   "file_extension": ".py",
   "mimetype": "text/x-python",
   "name": "python",
   "nbconvert_exporter": "python",
   "pygments_lexer": "ipython3",
   "version": "3.10.4"
  },
  "orig_nbformat": 4
 },
 "nbformat": 4,
 "nbformat_minor": 2
}
