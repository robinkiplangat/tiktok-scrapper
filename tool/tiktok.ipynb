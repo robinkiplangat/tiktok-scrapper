{
 "cells": [
  {
   "cell_type": "markdown",
   "metadata": {},
   "source": [
    "### Set Environment"
   ]
  },
  {
   "cell_type": "code",
   "execution_count": 85,
   "metadata": {},
   "outputs": [],
   "source": [
    "import json\n",
    "import warnings\n",
    "import pandas as pd\n",
    "from glob2 import glob\n",
    "warnings.filterwarnings(\"ignore\")\n"
   ]
  },
  {
   "cell_type": "markdown",
   "metadata": {},
   "source": [
    "### List all Output paths"
   ]
  },
  {
   "cell_type": "code",
   "execution_count": 90,
   "metadata": {},
   "outputs": [],
   "source": [
    "jsonFiles = \\\n",
    "    glob('/Users/ivanmusebe/Desktop/tiktok-hashtag-analysis/data/*/posts/*.json'\n",
    "         )  # Can be used absolute or relative paths\n"
   ]
  },
  {
   "cell_type": "markdown",
   "metadata": {},
   "source": [
    "### Function to\n",
    "* __Merge all data in files__\n",
    "* __Normalizes merged .json into dataframe__\n",
    "* __Saves as csv__"
   ]
  },
  {
   "cell_type": "code",
   "execution_count": 93,
   "metadata": {},
   "outputs": [],
   "source": [
    "tiktok_data = pd.DataFrame([])\n",
    "\n",
    "\n",
    "def merge_JsonFiles(filename):\n",
    "    for f1 in filename:\n",
    "        global tiktok_data\n",
    "        with open(f1, 'r') as infile:\n",
    "            data = json.load(infile)\n",
    "        tiktok_data = tiktok_data.append(pd.json_normalize(data),\n",
    "                                         ignore_index=True)\n",
    "        tiktok_data.to_csv(\n",
    "            '/Users/ivanmusebe/Desktop/tiktok-hashtag-analysis/data/tiktok.csv', index=False)\n",
    "\n",
    "\n",
    "merge_JsonFiles(jsonFiles)\n"
   ]
  },
  {
   "cell_type": "markdown",
   "metadata": {},
   "source": [
    "### Cleaning\n",
    "#### Delete duplicate data: by 'webVideoUrl'"
   ]
  },
  {
   "cell_type": "code",
   "execution_count": 92,
   "metadata": {},
   "outputs": [],
   "source": [
    "# Delete duplicate rows based on specific columns\n",
    "\n",
    "tiktok_data = tiktok_data.drop_duplicates(subset=['webVideoUrl'],\n",
    "                                          keep=False)\n"
   ]
  },
  {
   "cell_type": "markdown",
   "metadata": {},
   "source": [
    "### Data Summaries\n",
    "#### To Flourish:"
   ]
  },
  {
   "cell_type": "code",
   "execution_count": 57,
   "metadata": {},
   "outputs": [
    {
     "data": {
      "text/html": [
       "<div>\n",
       "<style scoped>\n",
       "    .dataframe tbody tr th:only-of-type {\n",
       "        vertical-align: middle;\n",
       "    }\n",
       "\n",
       "    .dataframe tbody tr th {\n",
       "        vertical-align: top;\n",
       "    }\n",
       "\n",
       "    .dataframe thead th {\n",
       "        text-align: right;\n",
       "    }\n",
       "</style>\n",
       "<table border=\"1\" class=\"dataframe\">\n",
       "  <thead>\n",
       "    <tr style=\"text-align: right;\">\n",
       "      <th></th>\n",
       "      <th>id</th>\n",
       "      <th>secretID</th>\n",
       "      <th>text</th>\n",
       "      <th>createTime</th>\n",
       "      <th>webVideoUrl</th>\n",
       "      <th>videoUrl</th>\n",
       "      <th>videoUrlNoWaterMark</th>\n",
       "      <th>videoApiUrlNoWaterMark</th>\n",
       "      <th>diggCount</th>\n",
       "      <th>shareCount</th>\n",
       "      <th>...</th>\n",
       "      <th>musicMeta.coverThumb</th>\n",
       "      <th>musicMeta.coverMedium</th>\n",
       "      <th>musicMeta.coverLarge</th>\n",
       "      <th>musicMeta.duration</th>\n",
       "      <th>covers.default</th>\n",
       "      <th>covers.origin</th>\n",
       "      <th>covers.dynamic</th>\n",
       "      <th>videoMeta.height</th>\n",
       "      <th>videoMeta.width</th>\n",
       "      <th>videoMeta.duration</th>\n",
       "    </tr>\n",
       "  </thead>\n",
       "  <tbody>\n",
       "    <tr>\n",
       "      <th>0</th>\n",
       "      <td>7053605558787673390</td>\n",
       "      <td>7053605558787673390</td>\n",
       "      <td>@ohiostatedanceteam and @shannonmather1 I am y...</td>\n",
       "      <td>1642295523</td>\n",
       "      <td>https://www.tiktok.com/@hagsjkdndusgaveneoh/vi...</td>\n",
       "      <td>https://v16-webapp.tiktok.com/6cc186782203f560...</td>\n",
       "      <td></td>\n",
       "      <td></td>\n",
       "      <td>607700</td>\n",
       "      <td>4266</td>\n",
       "      <td>...</td>\n",
       "      <td>https://p16-sign-va.tiktokcdn.com/tos-maliva-a...</td>\n",
       "      <td>https://p16-sign-va.tiktokcdn.com/tos-maliva-a...</td>\n",
       "      <td>https://p16-sign-va.tiktokcdn.com/tos-maliva-a...</td>\n",
       "      <td>30</td>\n",
       "      <td>https://p19-sign.tiktokcdn-us.com/obj/tos-usea...</td>\n",
       "      <td>https://p19-sign.tiktokcdn-us.com/obj/tos-usea...</td>\n",
       "      <td>https://p19-sign.tiktokcdn-us.com/obj/tos-usea...</td>\n",
       "      <td>1056</td>\n",
       "      <td>576</td>\n",
       "      <td>10</td>\n",
       "    </tr>\n",
       "    <tr>\n",
       "      <th>1</th>\n",
       "      <td>7053531644015201582</td>\n",
       "      <td>7053531644015201582</td>\n",
       "      <td>The mental part of this isnt it on the last da...</td>\n",
       "      <td>1642278313</td>\n",
       "      <td>https://www.tiktok.com/@ryleagoodson/video/705...</td>\n",
       "      <td>https://v16-webapp.tiktok.com/d5c056bef893e2a2...</td>\n",
       "      <td></td>\n",
       "      <td></td>\n",
       "      <td>543900</td>\n",
       "      <td>1653</td>\n",
       "      <td>...</td>\n",
       "      <td>https://p16-sign-va.tiktokcdn.com/tos-maliva-a...</td>\n",
       "      <td>https://p16-sign-va.tiktokcdn.com/tos-maliva-a...</td>\n",
       "      <td>https://p16-sign-va.tiktokcdn.com/tos-maliva-a...</td>\n",
       "      <td>85</td>\n",
       "      <td>https://p16-sign.tiktokcdn-us.com/obj/tos-usea...</td>\n",
       "      <td>https://p16-sign.tiktokcdn-us.com/obj/tos-usea...</td>\n",
       "      <td>https://p16-sign.tiktokcdn-us.com/obj/tos-usea...</td>\n",
       "      <td>1024</td>\n",
       "      <td>576</td>\n",
       "      <td>85</td>\n",
       "    </tr>\n",
       "    <tr>\n",
       "      <th>2</th>\n",
       "      <td>6829568070978112769</td>\n",
       "      <td>6829568070978112769</td>\n",
       "      <td>#udad #bete #adarolage#uda #ede#🐊🐊🐊</td>\n",
       "      <td>1590132733</td>\n",
       "      <td>https://www.tiktok.com/@ajay_bhajantri/video/6...</td>\n",
       "      <td>https://v16-webapp.tiktok.com/dfc4ca4e47952bf5...</td>\n",
       "      <td></td>\n",
       "      <td></td>\n",
       "      <td>152200</td>\n",
       "      <td>305</td>\n",
       "      <td>...</td>\n",
       "      <td>https://p16-sign-sg.tiktokcdn.com/aweme/100x10...</td>\n",
       "      <td>https://p16-sign-sg.tiktokcdn.com/aweme/720x72...</td>\n",
       "      <td>https://p16-sign-sg.tiktokcdn.com/aweme/1080x1...</td>\n",
       "      <td>15</td>\n",
       "      <td>https://p16-sign-va.tiktokcdn.com/obj/tos-mali...</td>\n",
       "      <td>https://p16-sign-va.tiktokcdn.com/obj/tos-mali...</td>\n",
       "      <td>https://p16-sign-va.tiktokcdn.com/obj/tos-mali...</td>\n",
       "      <td>640</td>\n",
       "      <td>352</td>\n",
       "      <td>15</td>\n",
       "    </tr>\n",
       "    <tr>\n",
       "      <th>3</th>\n",
       "      <td>7054957844436684079</td>\n",
       "      <td>7054957844436684079</td>\n",
       "      <td>*my whole house every 5 minutes* DC: @tribe.99...</td>\n",
       "      <td>1642610377</td>\n",
       "      <td>https://www.tiktok.com/@marleyblanchard/video/...</td>\n",
       "      <td>https://v16-webapp.tiktok.com/899d28e182264e45...</td>\n",
       "      <td></td>\n",
       "      <td></td>\n",
       "      <td>116800</td>\n",
       "      <td>568</td>\n",
       "      <td>...</td>\n",
       "      <td>https://p16-amd-va.tiktokcdn.com/img/tos-useas...</td>\n",
       "      <td>https://p16-amd-va.tiktokcdn.com/img/tos-useas...</td>\n",
       "      <td>https://p16-amd-va.tiktokcdn.com/img/tos-useas...</td>\n",
       "      <td>30</td>\n",
       "      <td>https://p16-sign.tiktokcdn-us.com/obj/tos-usea...</td>\n",
       "      <td>https://p16-sign.tiktokcdn-us.com/obj/tos-usea...</td>\n",
       "      <td>https://p16-sign.tiktokcdn-us.com/obj/tos-usea...</td>\n",
       "      <td>1024</td>\n",
       "      <td>576</td>\n",
       "      <td>13</td>\n",
       "    </tr>\n",
       "    <tr>\n",
       "      <th>4</th>\n",
       "      <td>7069199295848713499</td>\n",
       "      <td>7069199295848713499</td>\n",
       "      <td>#34 hari lagi#bulanramadhan #2022#uda gk sabar...</td>\n",
       "      <td>1645926223</td>\n",
       "      <td>https://www.tiktok.com/@kangstoriwa8/video/706...</td>\n",
       "      <td>https://v16-webapp.tiktok.com/ff7b114e4363e3f3...</td>\n",
       "      <td></td>\n",
       "      <td></td>\n",
       "      <td>99200</td>\n",
       "      <td>6334</td>\n",
       "      <td>...</td>\n",
       "      <td>https://p16-sign-sg.tiktokcdn.com/aweme/100x10...</td>\n",
       "      <td>https://p16-sign-sg.tiktokcdn.com/aweme/720x72...</td>\n",
       "      <td>https://p16-sign-sg.tiktokcdn.com/aweme/1080x1...</td>\n",
       "      <td>24</td>\n",
       "      <td>https://p16-sign-va.tiktokcdn.com/obj/tos-usea...</td>\n",
       "      <td>https://p16-sign-va.tiktokcdn.com/obj/tos-usea...</td>\n",
       "      <td>https://p16-sign-va.tiktokcdn.com/obj/tos-usea...</td>\n",
       "      <td>1024</td>\n",
       "      <td>576</td>\n",
       "      <td>24</td>\n",
       "    </tr>\n",
       "  </tbody>\n",
       "</table>\n",
       "<p>5 rows × 44 columns</p>\n",
       "</div>"
      ],
      "text/plain": [
       "                    id             secretID  \\\n",
       "0  7053605558787673390  7053605558787673390   \n",
       "1  7053531644015201582  7053531644015201582   \n",
       "2  6829568070978112769  6829568070978112769   \n",
       "3  7054957844436684079  7054957844436684079   \n",
       "4  7069199295848713499  7069199295848713499   \n",
       "\n",
       "                                                text  createTime  \\\n",
       "0  @ohiostatedanceteam and @shannonmather1 I am y...  1642295523   \n",
       "1  The mental part of this isnt it on the last da...  1642278313   \n",
       "2                #udad #bete #adarolage#uda #ede#🐊🐊🐊  1590132733   \n",
       "3  *my whole house every 5 minutes* DC: @tribe.99...  1642610377   \n",
       "4  #34 hari lagi#bulanramadhan #2022#uda gk sabar...  1645926223   \n",
       "\n",
       "                                         webVideoUrl  \\\n",
       "0  https://www.tiktok.com/@hagsjkdndusgaveneoh/vi...   \n",
       "1  https://www.tiktok.com/@ryleagoodson/video/705...   \n",
       "2  https://www.tiktok.com/@ajay_bhajantri/video/6...   \n",
       "3  https://www.tiktok.com/@marleyblanchard/video/...   \n",
       "4  https://www.tiktok.com/@kangstoriwa8/video/706...   \n",
       "\n",
       "                                            videoUrl videoUrlNoWaterMark  \\\n",
       "0  https://v16-webapp.tiktok.com/6cc186782203f560...                       \n",
       "1  https://v16-webapp.tiktok.com/d5c056bef893e2a2...                       \n",
       "2  https://v16-webapp.tiktok.com/dfc4ca4e47952bf5...                       \n",
       "3  https://v16-webapp.tiktok.com/899d28e182264e45...                       \n",
       "4  https://v16-webapp.tiktok.com/ff7b114e4363e3f3...                       \n",
       "\n",
       "  videoApiUrlNoWaterMark  diggCount  shareCount  ...  \\\n",
       "0                            607700        4266  ...   \n",
       "1                            543900        1653  ...   \n",
       "2                            152200         305  ...   \n",
       "3                            116800         568  ...   \n",
       "4                             99200        6334  ...   \n",
       "\n",
       "                                musicMeta.coverThumb  \\\n",
       "0  https://p16-sign-va.tiktokcdn.com/tos-maliva-a...   \n",
       "1  https://p16-sign-va.tiktokcdn.com/tos-maliva-a...   \n",
       "2  https://p16-sign-sg.tiktokcdn.com/aweme/100x10...   \n",
       "3  https://p16-amd-va.tiktokcdn.com/img/tos-useas...   \n",
       "4  https://p16-sign-sg.tiktokcdn.com/aweme/100x10...   \n",
       "\n",
       "                               musicMeta.coverMedium  \\\n",
       "0  https://p16-sign-va.tiktokcdn.com/tos-maliva-a...   \n",
       "1  https://p16-sign-va.tiktokcdn.com/tos-maliva-a...   \n",
       "2  https://p16-sign-sg.tiktokcdn.com/aweme/720x72...   \n",
       "3  https://p16-amd-va.tiktokcdn.com/img/tos-useas...   \n",
       "4  https://p16-sign-sg.tiktokcdn.com/aweme/720x72...   \n",
       "\n",
       "                                musicMeta.coverLarge musicMeta.duration  \\\n",
       "0  https://p16-sign-va.tiktokcdn.com/tos-maliva-a...                 30   \n",
       "1  https://p16-sign-va.tiktokcdn.com/tos-maliva-a...                 85   \n",
       "2  https://p16-sign-sg.tiktokcdn.com/aweme/1080x1...                 15   \n",
       "3  https://p16-amd-va.tiktokcdn.com/img/tos-useas...                 30   \n",
       "4  https://p16-sign-sg.tiktokcdn.com/aweme/1080x1...                 24   \n",
       "\n",
       "                                      covers.default  \\\n",
       "0  https://p19-sign.tiktokcdn-us.com/obj/tos-usea...   \n",
       "1  https://p16-sign.tiktokcdn-us.com/obj/tos-usea...   \n",
       "2  https://p16-sign-va.tiktokcdn.com/obj/tos-mali...   \n",
       "3  https://p16-sign.tiktokcdn-us.com/obj/tos-usea...   \n",
       "4  https://p16-sign-va.tiktokcdn.com/obj/tos-usea...   \n",
       "\n",
       "                                       covers.origin  \\\n",
       "0  https://p19-sign.tiktokcdn-us.com/obj/tos-usea...   \n",
       "1  https://p16-sign.tiktokcdn-us.com/obj/tos-usea...   \n",
       "2  https://p16-sign-va.tiktokcdn.com/obj/tos-mali...   \n",
       "3  https://p16-sign.tiktokcdn-us.com/obj/tos-usea...   \n",
       "4  https://p16-sign-va.tiktokcdn.com/obj/tos-usea...   \n",
       "\n",
       "                                      covers.dynamic videoMeta.height  \\\n",
       "0  https://p19-sign.tiktokcdn-us.com/obj/tos-usea...             1056   \n",
       "1  https://p16-sign.tiktokcdn-us.com/obj/tos-usea...             1024   \n",
       "2  https://p16-sign-va.tiktokcdn.com/obj/tos-mali...              640   \n",
       "3  https://p16-sign.tiktokcdn-us.com/obj/tos-usea...             1024   \n",
       "4  https://p16-sign-va.tiktokcdn.com/obj/tos-usea...             1024   \n",
       "\n",
       "  videoMeta.width videoMeta.duration  \n",
       "0             576                 10  \n",
       "1             576                 85  \n",
       "2             352                 15  \n",
       "3             576                 13  \n",
       "4             576                 24  \n",
       "\n",
       "[5 rows x 44 columns]"
      ]
     },
     "execution_count": 57,
     "metadata": {},
     "output_type": "execute_result"
    }
   ],
   "source": [
    "tiktok_data.head()\n"
   ]
  },
  {
   "cell_type": "markdown",
   "metadata": {},
   "source": [
    "### Visuals\n",
    "#### 1. User from 'webVideoUrl'"
   ]
  },
  {
   "cell_type": "code",
   "execution_count": 94,
   "metadata": {},
   "outputs": [],
   "source": [
    "source = pd.DataFrame([])\n",
    "source[\"source\"] = tiktok_data['webVideoUrl'].str.split('/').str[3]\n",
    "source[\"source\"].value_counts().rename_axis(\"unique_sources\").reset_index(\n",
    "    name=\"counts\"\n",
    ").to_csv(\"/Users/ivanmusebe/Desktop/tiktok-hashtag-analysis/data/source.csv\")\n"
   ]
  },
  {
   "cell_type": "markdown",
   "metadata": {},
   "source": [
    "#### 2. Virial Video: 'webvideoUrl' "
   ]
  },
  {
   "cell_type": "code",
   "execution_count": 99,
   "metadata": {},
   "outputs": [],
   "source": [
    "tiktok_data[\"videoUrl\"].value_counts(ascending=True).rename_axis(\n",
    "    \"unique_videos\"\n",
    ").reset_index(name=\"counts\").to_csv(\n",
    "    \"/Users/ivanmusebe/Desktop/tiktok-hashtag-analysis/data/videos.csv\"\n",
    ")\n"
   ]
  },
  {
   "cell_type": "markdown",
   "metadata": {},
   "source": [
    "#### 3. Sentimental Analysis by 'text'"
   ]
  },
  {
   "cell_type": "code",
   "execution_count": 107,
   "metadata": {},
   "outputs": [],
   "source": [
    "import nltk\n",
    "from nltk.corpus import twitter_samples"
   ]
  },
  {
   "cell_type": "code",
   "execution_count": 60,
   "metadata": {},
   "outputs": [
    {
     "data": {
      "text/plain": [
       "1642278313"
      ]
     },
     "execution_count": 60,
     "metadata": {},
     "output_type": "execute_result"
    }
   ],
   "source": [
    "tiktok_data['createTime'][1]\n"
   ]
  }
 ],
 "metadata": {
  "interpreter": {
   "hash": "aee8b7b246df8f9039afb4144a1f6fd8d2ca17a180786b69acc140d282b71a49"
  },
  "kernelspec": {
   "display_name": "Python 3.10.4 64-bit",
   "language": "python",
   "name": "python3"
  },
  "language_info": {
   "codemirror_mode": {
    "name": "ipython",
    "version": 3
   },
   "file_extension": ".py",
   "mimetype": "text/x-python",
   "name": "python",
   "nbconvert_exporter": "python",
   "pygments_lexer": "ipython3",
   "version": "3.10.4"
  },
  "orig_nbformat": 4
 },
 "nbformat": 4,
 "nbformat_minor": 2
}
